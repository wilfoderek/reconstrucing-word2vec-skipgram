{
 "cells": [
  {
   "cell_type": "code",
   "execution_count": 1,
   "id": "5e17c7cc",
   "metadata": {},
   "outputs": [
    {
     "name": "stdout",
     "output_type": "stream",
     "text": [
      "Defaulting to user installation because normal site-packages is not writeable\n",
      "Looking in indexes: https://pypi.org/simple, https://pypi.ngc.nvidia.com\n",
      "Requirement already satisfied: gensim in ./.local/lib/python3.8/site-packages (4.3.3)\n",
      "Requirement already satisfied: smart-open>=1.8.1 in /opt/conda/lib/python3.8/site-packages (from gensim) (5.2.1)\n",
      "Requirement already satisfied: numpy<2.0,>=1.18.5 in /opt/conda/lib/python3.8/site-packages (from gensim) (1.22.0)\n",
      "Requirement already satisfied: scipy<1.14.0,>=1.7.0 in ./.local/lib/python3.8/site-packages (from gensim) (1.10.1)\n"
     ]
    }
   ],
   "source": [
    "!pip install gensim\n"
   ]
  },
  {
   "cell_type": "code",
   "execution_count": 2,
   "id": "5233a2b6",
   "metadata": {},
   "outputs": [],
   "source": [
    "import numpy as np\n",
    "import torch\n",
    "from torch.utils.data import Dataset\n",
    "import torch\n",
    "import torch.nn as nn\n",
    "import torch.nn.functional as F\n",
    "from torch.nn import init\n",
    "import torch\n",
    "import torch.optim as optim\n",
    "from torch.utils.data import DataLoader\n",
    "from tqdm import tqdm\n",
    "import re\n",
    "import gensim\n",
    "\n",
    "import matplotlib.pyplot as plt\n",
    "from sklearn.metrics import roc_curve, auc"
   ]
  },
  {
   "cell_type": "code",
   "execution_count": 3,
   "id": "1c02fa24",
   "metadata": {},
   "outputs": [],
   "source": [
    "file_name = 'corpus_juridico.txt'"
   ]
  },
  {
   "cell_type": "markdown",
   "id": "b89b0a64",
   "metadata": {},
   "source": [
    "Data Reader Class"
   ]
  },
  {
   "cell_type": "code",
   "execution_count": 4,
   "id": "787edc18",
   "metadata": {},
   "outputs": [],
   "source": [
    "np.random.seed(12345)"
   ]
  },
  {
   "cell_type": "code",
   "execution_count": 5,
   "id": "670dac80",
   "metadata": {},
   "outputs": [],
   "source": [
    "class DataReader:\n",
    "    NEGATIVE_TABLE_SIZE = 1e8\n",
    "\n",
    "    def __init__(self, inputFileName, min_count):\n",
    "\n",
    "        self.negatives = []\n",
    "        self.discards = []\n",
    "        self.negpos = 0\n",
    "\n",
    "        self.word2id = dict()\n",
    "        self.id2word = dict()\n",
    "        self.sentences_count = 0\n",
    "        self.token_count = 0\n",
    "        self.word_frequency = dict()\n",
    "\n",
    "        self.inputFileName = inputFileName\n",
    "        self.read_words(min_count)\n",
    "        self.initTableNegatives()\n",
    "        self.initTableDiscards()\n",
    "\n",
    "    def read_words(self, min_count):\n",
    "        word_frequency = dict()\n",
    "        for line in open(self.inputFileName, encoding=\"utf8\"):\n",
    "            \n",
    "            line = line.lower()\n",
    "            line = re.sub(r'[^\\w\\sáéíóúñü]', '', line)\n",
    "            line = re.sub(r'\\s+', ' ', line).strip()\n",
    "            line = line.split()\n",
    "            if len(line) > 10:\n",
    "                self.sentences_count += 1\n",
    "                for word in line:\n",
    "                    if len(word) > 0:\n",
    "                        self.token_count += 1\n",
    "                        word_frequency[word] = word_frequency.get(word, 0) + 1\n",
    "\n",
    "                        if self.token_count % 1000000 == 0:\n",
    "                            print(\"Read \" + str(int(self.token_count / 1000000)) + \"M words.\")\n",
    "\n",
    "        wid = 0\n",
    "        for w, c in word_frequency.items():\n",
    "            if c < min_count:\n",
    "                continue\n",
    "            self.word2id[w] = wid\n",
    "            self.id2word[wid] = w\n",
    "            self.word_frequency[wid] = c\n",
    "            wid += 1\n",
    "        print(\"Total embeddings: \" + str(len(self.word2id)))\n",
    "\n",
    "    def initTableDiscards(self):\n",
    "        t = 0.0001\n",
    "        f = np.array(list(self.word_frequency.values())) / self.token_count\n",
    "        self.discards = np.sqrt(t / f) + (t / f)\n",
    "\n",
    "    def initTableNegatives(self):\n",
    "        pow_frequency = np.array(list(self.word_frequency.values())) ** 0.5\n",
    "        words_pow = sum(pow_frequency)\n",
    "        ratio = pow_frequency / words_pow\n",
    "        count = np.round(ratio * DataReader.NEGATIVE_TABLE_SIZE)\n",
    "        for wid, c in enumerate(count):\n",
    "            self.negatives += [wid] * int(c)\n",
    "        self.negatives = np.array(self.negatives)\n",
    "        np.random.shuffle(self.negatives)\n",
    "\n",
    "    def getNegatives(self, target, size):  # TODO check equality with target\n",
    "        response = self.negatives[self.negpos:self.negpos + size]\n",
    "        self.negpos = (self.negpos + size) % len(self.negatives)\n",
    "        if len(response) != size:\n",
    "            return np.concatenate((response, self.negatives[0:self.negpos]))\n",
    "        return response\n",
    "\n",
    "\n",
    "# -----------------------------------------------------------------------------------------------------------------\n",
    "\n",
    "class Word2vecDataset(Dataset):\n",
    "    def __init__(self, data, window_size):\n",
    "        self.data = data\n",
    "        self.window_size = window_size\n",
    "        self.input_file = open(data.inputFileName, encoding=\"utf8\")\n",
    "\n",
    "    def __len__(self):\n",
    "        return self.data.sentences_count\n",
    "\n",
    "    def __getitem__(self, idx):\n",
    "        while True:\n",
    "            line = self.input_file.readline()\n",
    "            if not line:\n",
    "                self.input_file.seek(0, 0)\n",
    "                line = self.input_file.readline()\n",
    "\n",
    "            if len(line) > 1:\n",
    "                words = line.split()\n",
    "\n",
    "                if len(words) > 1:\n",
    "                    word_ids = [self.data.word2id[w] for w in words if\n",
    "                                w in self.data.word2id and np.random.rand() < self.data.discards[self.data.word2id[w]]]\n",
    "\n",
    "                    boundary = np.random.randint(1, self.window_size)\n",
    "                    return [(u, v, self.data.getNegatives(v, 5)) for i, u in enumerate(word_ids) for j, v in\n",
    "                            enumerate(word_ids[max(i - boundary, 0):i + boundary]) if u != v]\n",
    "\n",
    "    @staticmethod\n",
    "    def collate(batches):\n",
    "        all_u = [u for batch in batches for u, _, _ in batch if len(batch) > 0]\n",
    "        all_v = [v for batch in batches for _, v, _ in batch if len(batch) > 0]\n",
    "        all_neg_v = [neg_v for batch in batches for _, _, neg_v in batch if len(batch) > 0]\n",
    "        \n",
    "        all_u = np.array(all_u)  # Cambio\n",
    "        all_v = np.array(all_v)  # Cambio\n",
    "        all_neg_v = np.array(all_neg_v)  # Cambio\n",
    "\n",
    "        return torch.LongTensor(all_u), torch.LongTensor(all_v), torch.LongTensor(all_neg_v)"
   ]
  },
  {
   "cell_type": "markdown",
   "id": "ff12ff0f",
   "metadata": {},
   "source": [
    "Modelo"
   ]
  },
  {
   "cell_type": "code",
   "execution_count": 6,
   "id": "e260d553",
   "metadata": {},
   "outputs": [],
   "source": [
    "class SkipGramModel(nn.Module):\n",
    "\n",
    "    def __init__(self, emb_size, emb_dimension):\n",
    "        super(SkipGramModel, self).__init__()\n",
    "        self.emb_size = emb_size\n",
    "        self.emb_dimension = emb_dimension\n",
    "        self.u_embeddings = nn.Embedding(emb_size, emb_dimension, sparse=True)\n",
    "        self.v_embeddings = nn.Embedding(emb_size, emb_dimension, sparse=True)\n",
    "\n",
    "        initrange = 1.0 / self.emb_dimension\n",
    "        init.uniform_(self.u_embeddings.weight.data, -initrange, initrange)\n",
    "        init.constant_(self.v_embeddings.weight.data, 0)\n",
    "\n",
    "    def forward(self, pos_u, pos_v, neg_v):\n",
    "        emb_u = self.u_embeddings(pos_u)\n",
    "        emb_v = self.v_embeddings(pos_v)\n",
    "        emb_neg_v = self.v_embeddings(neg_v)\n",
    "\n",
    "        score = torch.sum(torch.mul(emb_u, emb_v), dim=1)\n",
    "        score = torch.clamp(score, max=10, min=-10)\n",
    "        score = -F.logsigmoid(score)\n",
    "\n",
    "        neg_score = torch.bmm(emb_neg_v, emb_u.unsqueeze(2)).squeeze()\n",
    "        neg_score = torch.clamp(neg_score, max=10, min=-10)\n",
    "        neg_score = -torch.sum(F.logsigmoid(-neg_score), dim=1)\n",
    "\n",
    "        return torch.mean(score + neg_score)\n",
    "\n",
    "    def save_embedding(self, id2word, file_name):\n",
    "        embedding = self.u_embeddings.weight.cpu().data.numpy()\n",
    "        with open(file_name, 'w') as f:\n",
    "            f.write('%d %d\\n' % (len(id2word), self.emb_dimension))\n",
    "            for wid, w in id2word.items():\n",
    "                e = ' '.join(map(lambda x: str(x), embedding[wid]))\n",
    "                f.write('%s %s\\n' % (w, e))"
   ]
  },
  {
   "cell_type": "markdown",
   "id": "aa25edd2",
   "metadata": {},
   "source": [
    "Entrenamiento"
   ]
  },
  {
   "cell_type": "code",
   "execution_count": 7,
   "id": "d5752783",
   "metadata": {},
   "outputs": [],
   "source": [
    "class Word2VecTrainer:\n",
    "    def __init__(self, input_file, output_file, emb_dimension=100, batch_size=32, window_size=5, iterations=3,\n",
    "                 initial_lr=0.001, min_count=12):\n",
    "\n",
    "        self.data = DataReader(input_file, min_count)\n",
    "        dataset = Word2vecDataset(self.data, window_size)\n",
    "        self.dataloader = DataLoader(dataset, batch_size=batch_size,\n",
    "                                     shuffle=False, num_workers=0, collate_fn=dataset.collate)\n",
    "\n",
    "        self.output_file_name = output_file\n",
    "        self.emb_size = len(self.data.word2id)\n",
    "        self.emb_dimension = emb_dimension\n",
    "        self.batch_size = batch_size\n",
    "        self.iterations = iterations\n",
    "        self.initial_lr = initial_lr\n",
    "        self.skip_gram_model = SkipGramModel(self.emb_size, self.emb_dimension)\n",
    "\n",
    "        self.use_cuda = torch.cuda.is_available()\n",
    "        self.device = torch.device(\"cuda\" if self.use_cuda else \"cpu\")\n",
    "        if self.use_cuda:\n",
    "            self.skip_gram_model.cuda()\n",
    "\n",
    "\n",
    "        # For plotting\n",
    "        self.losses = []\n",
    "        self.accuracies = []\n",
    "        self.true_labels = []\n",
    "        self.pred_labels = []\n",
    "\n",
    "    def train(self):\n",
    "\n",
    "        for iteration in range(self.iterations):\n",
    "\n",
    "            print(\"\\n\\n\\nIteration: \" + str(iteration + 1))\n",
    "            optimizer = optim.SparseAdam(self.skip_gram_model.parameters(), lr=self.initial_lr)\n",
    "            scheduler = torch.optim.lr_scheduler.CosineAnnealingLR(optimizer, len(self.dataloader))\n",
    "\n",
    "            running_loss = 0.0\n",
    "            for i, sample_batched in enumerate(tqdm(self.dataloader)):\n",
    "\n",
    "                if len(sample_batched[0]) > 1:\n",
    "                    pos_u = sample_batched[0].to(self.device)\n",
    "                    pos_v = sample_batched[1].to(self.device)\n",
    "                    neg_v = sample_batched[2].to(self.device)\n",
    "\n",
    "                    scheduler.step()\n",
    "                    optimizer.zero_grad()\n",
    "                    loss = self.skip_gram_model.forward(pos_u, pos_v, neg_v)\n",
    "                    loss.backward()\n",
    "                    optimizer.step()\n",
    "\n",
    "                    running_loss = running_loss * 0.9 + loss.item() * 0.1\n",
    "                    if i > 0 and i % 500 == 0:\n",
    "                        print(\" Loss: \" + str(running_loss))\n",
    "\n",
    "                    # Store loss\n",
    "                    self.losses.append(loss.item())\n",
    "\n",
    "                    # Dummy accuracy and ROC for demonstration (Word2Vec is unsupervised)\n",
    "                    self.true_labels.extend([1] * len(pos_u) + [0] * len(neg_v))\n",
    "                    self.pred_labels.extend([1] * len(pos_u) + [0] * len(neg_v))\n",
    "                    self.accuracies.append(np.mean(np.array(self.true_labels) == np.array(self.pred_labels)))\n",
    "\n",
    "            self.skip_gram_model.save_embedding(self.data.id2word, self.output_file_name)\n",
    "\n",
    "\n",
    "\n",
    "    def plot_metrics(self):\n",
    "        # Plot loss\n",
    "        plt.figure()\n",
    "        plt.plot(self.losses, label='Loss')\n",
    "        plt.xlabel('Iterations')\n",
    "        plt.ylabel('Loss')\n",
    "        plt.title('Training Loss')\n",
    "        plt.legend()\n",
    "        plt.show()\n",
    "\n",
    "        # Plot accuracy (dummy)\n",
    "        plt.figure()\n",
    "        plt.plot(self.accuracies, label='Accuracy')\n",
    "        plt.xlabel('Iterations')\n",
    "        plt.ylabel('Accuracy')\n",
    "        plt.title('Training Accuracy (Dummy)')\n",
    "        plt.legend()\n",
    "        plt.show()\n",
    "\n",
    "        # ROC Curve (dummy)\n",
    "        fpr, tpr, _ = roc_curve(self.true_labels, self.pred_labels)\n",
    "        roc_auc = auc(fpr, tpr)\n",
    "\n",
    "        plt.figure()\n",
    "        plt.plot(fpr, tpr, color='darkorange', lw=2, label='ROC curve (area = %0.2f)' % roc_auc)\n",
    "        plt.plot([0, 1], [0, 1], color='navy', lw=2, linestyle='--')\n",
    "        plt.xlabel('False Positive Rate')\n",
    "        plt.ylabel('True Positive Rate')\n",
    "        plt.title('Receiver Operating Characteristic (Dummy)')\n",
    "        plt.legend(loc=\"lower right\")\n",
    "        plt.show()\n"
   ]
  },
  {
   "cell_type": "markdown",
   "id": "2a1fb967",
   "metadata": {},
   "source": [
    "Validación"
   ]
  },
  {
   "cell_type": "code",
   "execution_count": 8,
   "id": "6d448989",
   "metadata": {},
   "outputs": [
    {
     "name": "stdout",
     "output_type": "stream",
     "text": [
      "Read 1M words.\n",
      "Read 2M words.\n",
      "Read 3M words.\n",
      "Total embeddings: 10475\n",
      "\n",
      "\n",
      "\n",
      "Iteration: 1\n"
     ]
    },
    {
     "name": "stderr",
     "output_type": "stream",
     "text": [
      "  0%|          | 0/2946 [00:00<?, ?it/s]/opt/conda/lib/python3.8/site-packages/torch/optim/lr_scheduler.py:129: UserWarning: Detected call of `lr_scheduler.step()` before `optimizer.step()`. In PyTorch 1.1.0 and later, you should call them in the opposite order: `optimizer.step()` before `lr_scheduler.step()`.  Failure to do this will result in PyTorch skipping the first value of the learning rate schedule. See more details at https://pytorch.org/docs/stable/optim.html#how-to-adjust-learning-rate\n",
      "  warnings.warn(\"Detected call of `lr_scheduler.step()` before `optimizer.step()`. \"\n",
      " 17%|█▋        | 501/2946 [00:39<06:02,  6.75it/s]"
     ]
    },
    {
     "name": "stdout",
     "output_type": "stream",
     "text": [
      " Loss: 3.121115241910225\n"
     ]
    },
    {
     "name": "stderr",
     "output_type": "stream",
     "text": [
      " 34%|███▍      | 1000/2946 [02:29<09:27,  3.43it/s]"
     ]
    },
    {
     "name": "stdout",
     "output_type": "stream",
     "text": [
      " Loss: 2.79795756651304\n"
     ]
    },
    {
     "name": "stderr",
     "output_type": "stream",
     "text": [
      " 51%|█████     | 1500/2946 [05:33<10:43,  2.25it/s]"
     ]
    },
    {
     "name": "stdout",
     "output_type": "stream",
     "text": [
      " Loss: 2.6987989079911143\n"
     ]
    },
    {
     "name": "stderr",
     "output_type": "stream",
     "text": [
      " 68%|██████▊   | 2000/2946 [09:56<09:22,  1.68it/s]"
     ]
    },
    {
     "name": "stdout",
     "output_type": "stream",
     "text": [
      " Loss: 2.643507754589297\n"
     ]
    },
    {
     "name": "stderr",
     "output_type": "stream",
     "text": [
      " 85%|████████▍ | 2500/2946 [15:31<05:26,  1.37it/s]"
     ]
    },
    {
     "name": "stdout",
     "output_type": "stream",
     "text": [
      " Loss: 2.665184289882668\n"
     ]
    },
    {
     "name": "stderr",
     "output_type": "stream",
     "text": [
      "100%|██████████| 2946/2946 [21:30<00:00,  2.28it/s]\n"
     ]
    },
    {
     "name": "stdout",
     "output_type": "stream",
     "text": [
      "\n",
      "\n",
      "\n",
      "Iteration: 2\n"
     ]
    },
    {
     "name": "stderr",
     "output_type": "stream",
     "text": [
      " 17%|█▋        | 500/2946 [07:16<36:21,  1.12it/s]"
     ]
    },
    {
     "name": "stdout",
     "output_type": "stream",
     "text": [
      " Loss: 2.377885405978299\n"
     ]
    },
    {
     "name": "stderr",
     "output_type": "stream",
     "text": [
      " 34%|███▍      | 1000/2946 [14:47<29:44,  1.09it/s]"
     ]
    },
    {
     "name": "stdout",
     "output_type": "stream",
     "text": [
      " Loss: 2.552056676098532\n"
     ]
    },
    {
     "name": "stderr",
     "output_type": "stream",
     "text": [
      " 51%|█████     | 1500/2946 [22:53<24:53,  1.03s/it]"
     ]
    },
    {
     "name": "stdout",
     "output_type": "stream",
     "text": [
      " Loss: 2.561112292700428\n"
     ]
    },
    {
     "name": "stderr",
     "output_type": "stream",
     "text": [
      " 68%|██████▊   | 2000/2946 [32:08<18:35,  1.18s/it]"
     ]
    },
    {
     "name": "stdout",
     "output_type": "stream",
     "text": [
      " Loss: 2.734301052486046\n"
     ]
    },
    {
     "name": "stderr",
     "output_type": "stream",
     "text": [
      " 85%|████████▍ | 2500/2946 [42:37<09:47,  1.32s/it]"
     ]
    },
    {
     "name": "stdout",
     "output_type": "stream",
     "text": [
      " Loss: 2.592500010372985\n"
     ]
    },
    {
     "name": "stderr",
     "output_type": "stream",
     "text": [
      "100%|██████████| 2946/2946 [53:04<00:00,  1.08s/it]\n"
     ]
    },
    {
     "name": "stdout",
     "output_type": "stream",
     "text": [
      "\n",
      "\n",
      "\n",
      "Iteration: 3\n"
     ]
    },
    {
     "name": "stderr",
     "output_type": "stream",
     "text": [
      " 17%|█▋        | 500/2946 [12:52<1:05:10,  1.60s/it]"
     ]
    },
    {
     "name": "stdout",
     "output_type": "stream",
     "text": [
      " Loss: 2.574361294353489\n"
     ]
    },
    {
     "name": "stderr",
     "output_type": "stream",
     "text": [
      " 34%|███▍      | 1000/2946 [26:59<56:54,  1.75s/it] "
     ]
    },
    {
     "name": "stdout",
     "output_type": "stream",
     "text": [
      " Loss: 2.544862003887069\n"
     ]
    },
    {
     "name": "stderr",
     "output_type": "stream",
     "text": [
      " 51%|█████     | 1500/2946 [41:55<43:41,  1.81s/it]"
     ]
    },
    {
     "name": "stdout",
     "output_type": "stream",
     "text": [
      " Loss: 2.3781080856085173\n"
     ]
    },
    {
     "name": "stderr",
     "output_type": "stream",
     "text": [
      " 68%|██████▊   | 2000/2946 [57:08<28:48,  1.83s/it]"
     ]
    },
    {
     "name": "stdout",
     "output_type": "stream",
     "text": [
      " Loss: 2.419751472805942\n"
     ]
    },
    {
     "name": "stderr",
     "output_type": "stream",
     "text": [
      " 85%|████████▍ | 2500/2946 [1:12:42<14:12,  1.91s/it]"
     ]
    },
    {
     "name": "stdout",
     "output_type": "stream",
     "text": [
      " Loss: 2.4534355771555276\n"
     ]
    },
    {
     "name": "stderr",
     "output_type": "stream",
     "text": [
      "100%|██████████| 2946/2946 [1:27:30<00:00,  1.78s/it]\n"
     ]
    }
   ],
   "source": [
    "w2v = Word2VecTrainer(input_file=file_name, output_file=\"model_skipgram.vec\")\n",
    "w2v.train()"
   ]
  },
  {
   "cell_type": "code",
   "execution_count": 9,
   "id": "825dfd5d",
   "metadata": {},
   "outputs": [],
   "source": [
    "def test_model(model, words):\n",
    "    for word in words:\n",
    "        if word in model:\n",
    "            print(f\"\\nPalabras similares a '{word}':\")\n",
    "            similar_words = model.most_similar(word, topn=5)\n",
    "            for similar_word, similarity in similar_words:\n",
    "                print(f\"  {similar_word}: {similarity:.4f}\")\n",
    "        else:\n",
    "            print(f\"La palabra '{word}' no está en el vocabulario del modelo.\")"
   ]
  },
  {
   "cell_type": "markdown",
   "id": "0637ba24",
   "metadata": {},
   "source": [
    "Probando Modelo"
   ]
  },
  {
   "cell_type": "code",
   "execution_count": 13,
   "id": "82e991f5",
   "metadata": {},
   "outputs": [
    {
     "data": {
      "image/png": "[encoded data removed]",
      "text/plain": [
       "<Figure size 432x288 with 1 Axes>"
      ]
     },
     "metadata": {
      "needs_background": "light"
     },
     "output_type": "display_data"
    },
    {
     "data": {
      "image/png": "[encoded data removed]",
      "text/plain": [
       "<Figure size 432x288 with 1 Axes>"
      ]
     },
     "metadata": {
      "needs_background": "light"
     },
     "output_type": "display_data"
    },
    {
     "data": {
      "image/png": "[encoded data removed]",
      "text/plain": [
       "<Figure size 432x288 with 1 Axes>"
      ]
     },
     "metadata": {
      "needs_background": "light"
     },
     "output_type": "display_data"
    }
   ],
   "source": [
    "w2v.plot_metrics()"
   ]
  },
  {
   "cell_type": "code",
   "execution_count": 10,
   "id": "6e1e886c",
   "metadata": {},
   "outputs": [],
   "source": [
    "model = gensim.models.KeyedVectors.load_word2vec_format(\"model_skipgram.vec\", binary=False)\n"
   ]
  },
  {
   "cell_type": "code",
   "execution_count": 11,
   "id": "b4bd3b57",
   "metadata": {},
   "outputs": [],
   "source": [
    "words_to_test = [\"juez\", \"ley\", \"decreto\", \"sentencia\"]"
   ]
  },
  {
   "cell_type": "code",
   "execution_count": 12,
   "id": "ae1c3cbe",
   "metadata": {},
   "outputs": [
    {
     "name": "stdout",
     "output_type": "stream",
     "text": [
      "\n",
      "Palabras similares a 'juez':\n",
      "  causa: 0.9255\n",
      "  si: 0.9196\n",
      "  juzgador: 0.9192\n",
      "  pero: 0.9138\n",
      "  puede: 0.9112\n",
      "\n",
      "Palabras similares a 'ley':\n",
      "  formalidades: 0.9686\n",
      "  estatuto: 0.9656\n",
      "  opongan: 0.9655\n",
      "  fueren: 0.9654\n",
      "  estricta: 0.9652\n",
      "\n",
      "Palabras similares a 'decreto':\n",
      "  objeción: 0.9812\n",
      "  315: 0.9797\n",
      "  95: 0.9797\n",
      "  144: 0.9796\n",
      "  73: 0.9792\n",
      "\n",
      "Palabras similares a 'sentencia':\n",
      "  auto: 0.9488\n",
      "  juicio: 0.9423\n",
      "  domicilio: 0.9416\n",
      "  ha: 0.9413\n",
      "  escrito: 0.9359\n"
     ]
    }
   ],
   "source": [
    "test_model(model, words_to_test)"
   ]
  }
 ],
 "metadata": {
  "kernelspec": {
   "display_name": "Python 3 (ipykernel)",
   "language": "python",
   "name": "python3"
  },
  "language_info": {
   "codemirror_mode": {
    "name": "ipython",
    "version": 3
   },
   "file_extension": ".py",
   "mimetype": "text/x-python",
   "name": "python",
   "nbconvert_exporter": "python",
   "pygments_lexer": "ipython3",
   "version": "3.8.12"
  }
 },
 "nbformat": 4,
 "nbformat_minor": 5
}
